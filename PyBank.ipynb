{
 "cells": [
  {
   "cell_type": "code",
   "execution_count": null,
   "id": "22efc201",
   "metadata": {},
   "outputs": [],
   "source": [
    "import os\n",
    "import csv\n"
   ]
  },
  {
   "cell_type": "code",
   "execution_count": null,
   "id": "3b1f73cc",
   "metadata": {},
   "outputs": [],
   "source": [
    "csvpath = os.path.join('.', 'Resources', 'budget_data.csv')"
   ]
  },
  {
   "cell_type": "code",
   "execution_count": null,
   "id": "26a3e875",
   "metadata": {},
   "outputs": [],
   "source": [
    "with open(csvpath, 'r') as csvfile:\n",
    "    lines = csvfile.read()"
   ]
  },
  {
   "cell_type": "code",
   "execution_count": null,
   "id": "4b6d6596",
   "metadata": {},
   "outputs": [],
   "source": [
    "with open(csvpath) as csvfile:\n",
    "\n",
    "    # CSV reader specifies delimiter and variable that holds contents\n",
    "    csvreader = csv.reader(csvfile, delimiter=',')\n",
    "    \n",
    "    print(csvreader)\n",
    "\n",
    "    # Read the header row first (skip this step if there is now header)\n",
    "    csv_header = next(csvreader)\n",
    "    print(f\"CSV Header: {csv_header}\")\n",
    "    row = next(csvreader)\n",
    "    \n",
    "    \n",
    "    # Read each row of data after the header\n",
    "    for row in csvreader:\n",
    "        print(row)"
   ]
  },
  {
   "cell_type": "code",
   "execution_count": null,
   "id": "c7d99dc0",
   "metadata": {},
   "outputs": [],
   "source": [
    "###variables\n",
    "totalmonths = 0\n",
    "net_amnt_total = 0\n",
    "monthlychangeinlist = []\n",
    "totalmonthcount = []\n",
    "greatestincrease = 0\n",
    "greatest_increase_month = 0\n",
    "greatestdecrease = 0\n",
    "greatest_decrease_month = 0\n",
    "\n"
   ]
  },
  {
   "cell_type": "code",
   "execution_count": null,
   "id": "6e13019e",
   "metadata": {},
   "outputs": [],
   "source": [
    "with open(csvpath, newline='') as csvfile:\n",
    "\n",
    "    # CSV reader specifies delimiter and variable that holds contents\n",
    "    csvreader = csv.reader(csvfile, delimiter=',')\n",
    "    csv_header = next(csvreader)\n",
    "    row = next(csvreader)\n",
    "    \n",
    "    cbangeinProfits = int(row[1])\n",
    "    totalmonths += 1\n",
    "    net_amnt_total += int(row[1])\n",
    "    greatestincrease = int(row[1])\n",
    "    greatest_increase_month = row[0]\n",
    "    \n",
    "    \n",
    "    \n",
    "    for row in csvfile:\n",
    "        totalmonths += 1\n",
    "        net_amnt_total += int(row[1])  \n",
    "        revenueinchange = int(row[1]) - cbangeinProfits\n",
    "        monthlychangeinlist.append(revenueinchange)\n",
    "        cbangeinProfits = int(row[1])\n",
    "        totalmonthcount.append(row[0])\n",
    "\n",
    "        if int(row[1]) > greatestincrease:\n",
    "                greatestincrease = int(row[1])\n",
    "                greatest_increase_month = row[0]\n",
    "        if int(row[1]) < greatestdecrease:\n",
    "                greatestdecrease = int(row[1])\n",
    "                greatest_decrease_month = row[0] \n",
    "\n",
    "    averagelychange = sum(monthlychangeinlist)/ len(monthlychangeinlist)\n",
    "\n",
    "    highest = max(monthlychangeinlist)\n",
    "    lowest = min(monthlychangeinlist)"
   ]
  },
  {
   "cell_type": "code",
   "execution_count": null,
   "id": "131b4a16",
   "metadata": {},
   "outputs": [],
   "source": [
    "print(f\"Financial Analysis\")\n",
    "print(f\"---------------------------\")\n",
    "print(f\"Total Months: {totalmonths}\")\n",
    "print(f\"Total: ${net_amnt_total}\")\n",
    "print(f\"Average Change: ${averagelychange:.2f}\")\n",
    "print(f\"Greatest Increase in Profits:, {greatest_increase_month}, (${highest})\")\n",
    "print(f\"Greatest Decrease in Profits:, {greatest_decrease_month}, (${lowest})\")\n"
   ]
  },
  {
   "cell_type": "code",
   "execution_count": null,
   "id": "be6aaaf3",
   "metadata": {},
   "outputs": [],
   "source": [
    "output_file = os.path.join('.', 'Resources', 'budget_data_revisedfinal.text')\n",
    "\n",
    "with open(output_file, 'w',) as txtfile:\n",
    "    txtfile.write(f\"Financial Analysis\\n\")\n",
    "    txtfile.write(f\"---------------------------\\n\")\n",
    "    txtfile.write(f\"Total Months: {total_months}\\n\")\n",
    "    txtfile.write(f\"Total: ${net_amnt_total}\\n\")\n",
    "    txtfile.write(f\"Average Change: ${averagelychange}\\n\")\n",
    "    txtfile.write(f\"Greatest Increase in Profits:, {greatest_increase_month}, (${highest})\\n\")\n",
    "    txtfile.write(f\"Greatest Decrease in Profits:, {greatest_decrease_month}, (${lowest})\\n\")"
   ]
  },
  {
   "cell_type": "code",
   "execution_count": null,
   "id": "fd7dcfe8",
   "metadata": {},
   "outputs": [],
   "source": []
  },
  {
   "cell_type": "code",
   "execution_count": null,
   "id": "6199155f",
   "metadata": {},
   "outputs": [],
   "source": []
  },
  {
   "cell_type": "code",
   "execution_count": null,
   "id": "6e7aa9b3",
   "metadata": {},
   "outputs": [],
   "source": []
  },
  {
   "cell_type": "code",
   "execution_count": null,
   "id": "7a9292b0",
   "metadata": {},
   "outputs": [],
   "source": []
  },
  {
   "cell_type": "code",
   "execution_count": null,
   "id": "ec18acf2",
   "metadata": {},
   "outputs": [],
   "source": []
  }
 ],
 "metadata": {
  "kernelspec": {
   "display_name": "Python 3",
   "language": "python",
   "name": "python3"
  },
  "language_info": {
   "codemirror_mode": {
    "name": "ipython",
    "version": 3
   },
   "file_extension": ".py",
   "mimetype": "text/x-python",
   "name": "python",
   "nbconvert_exporter": "python",
   "pygments_lexer": "ipython3",
   "version": "3.8.5"
  }
 },
 "nbformat": 4,
 "nbformat_minor": 5
}
